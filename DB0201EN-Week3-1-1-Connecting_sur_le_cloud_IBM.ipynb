{
 "cells": [
  {
   "cell_type": "markdown",
   "metadata": {},
   "source": [
    "<center>\n",
    "    <img src=\"https://cf-courses-data.s3.us.cloud-object-storage.appdomain.cloud/assets/logos/SN_web_lightmode.png\" width=\"300\" alt=\"cognitiveclass.ai logo\">\n",
    "</center>\n",
    "\n",
    "\n",
    "# Connect to Db2 database on Cloud using Python(Se connecter à la base de données Db2 sur le cloud à l’aide de Python)\n",
    "\n",
    "\n",
    "Estimated time needed: **15** minutes\n",
    "    \n",
    "\n",
    "## Objectives\n",
    "\n",
    "After completing this lab you will be able to:\n",
    "\n",
    "* Import the ibm_db Python library\n",
    "* Enter the database connection credentials\n",
    "* Create the database connection\n",
    "* Close the database connection\n",
    "\n",
    "\n",
    "Importer la bibliothèque Python ibm_db\n",
    "* Entrez les informations d’identification de connexion à la base de données\n",
    "* Créer la connexion à la base de données\n",
    "* Fermez la connexion à la base de données"
   ]
  },
  {
   "cell_type": "markdown",
   "metadata": {},
   "source": [
    "\n",
    "__Note:__ Please follow the instructions given in the first Lab of this course to Create a database service instance of Db2 on Cloud and retrieve your database Service Credentials.\n",
    "\n",
    "__Note:__ Suivez les instructions données dans le premier atelier de ce cours pour créer une instance de service de base de données de Db2 sur le cloud et récupérer vos informations d’identification de service de base de données.\n",
    "\n",
    "\n",
    "## Import the `ibm_db` Python library\n",
    "\n",
    "The `ibm_db` [API ](https://pypi.python.org/pypi/ibm_db/?utm_medium=Exinfluencer&utm_source=Exinfluencer&utm_content=000026UJ&utm_term=10006555&utm_id=NA-SkillsNetwork-Channel-SkillsNetworkCoursesIBMDeveloperSkillsNetworkDB0201ENSkillsNetwork22-2022-01-01) provides a variety of useful Python functions for accessing and manipulating data in an IBM® data server database, including functions for connecting to a database, preparing and issuing SQL statements, fetching rows from result sets, calling stored procedures, committing and rolling back transactions, handling errors, and retrieving metadata.((The `ibm_db` [API ](https://pypi.python.org/pypi/ibm_db/?utm_medium=Exinfluencer&utm_source=Exinfluencer&utm_content=000026UJ&utm_term=10006555&utm_id=NA-SkillsNetwork-Channel-SkillsNetworkCoursesIBMDeveloperSkillsNetworkDB0201ENSkillsNetwork22-2022-01-01) fournit une variété de fonctions Python utiles pour accéder aux données d’une base de données IBM® et les manipuler, y compris des fonctions de connexion à une base de données, de préparation et d’émission d’instructions SQL, d’extraction de lignes à partir de jeux de résultats, d’appel de procédures stockées, de validation et d’annulation de transactions, de gestion des erreurs et de récupération de métadonnées.))\n",
    "\n",
    "\n",
    "We first import the ibm_db library into our Python Application(Nous importons d’abord la bibliothèque ibm_db dans notre application Python)\n",
    "\n",
    "Execute the following cells by clicking within it and then \n",
    "press `Shift` and `Enter` keys simultaneously(Exécutez les cellules suivantes en cliquant à l’intérieur, puis)\n",
    "press `Shift` and `Enter` keys simultaneously(press `Shift` and `Enter` keys simultaneously)\n",
    "\n",
    "The following required modules are pre-installed in the Skills Network Labs environment. However if you run this notebook commands in a different Jupyter environment (e.g. Watson Studio or Ananconda) you may need to install these libraries by removing the `#` sign before `!pip` in the code cell below.\n",
    "\n",
    "\n",
    "\n",
    "(Les modules requis suivants sont préinstallés dans l’environnement Skills Network Labs. Toutefois, si vous exécutez ces commandes de bloc-notes dans un autre environnement Jupyter (par exemple, Watson Studio ou Ananconda), vous devrez peut-être installer ces bibliothèques en supprimant le signe « # » avant « !pip » dans la cellule de code ci-dessous.)\n"
   ]
  },
  {
   "cell_type": "code",
   "execution_count": null,
   "metadata": {},
   "outputs": [],
   "source": [
    "# These libraries are pre-installed in SN Labs. If running in another environment please uncomment lines below to install them:\n",
    "# !pip install --force-reinstall ibm_db==3.1.0 ibm_db_sa==0.3.3\n",
    "# Ensure we don't load_ext with sqlalchemy>=1.4 (incompadible)\n",
    "# !pip uninstall sqlalchemy==1.4 -y && pip install sqlalchemy==1.3.24\n",
    "# !pip install ipython-sql"
   ]
  },
  {
   "cell_type": "code",
   "execution_count": 1,
   "metadata": {
    "tags": []
   },
   "outputs": [],
   "source": [
    "import ibm_db"
   ]
  },
  {
   "cell_type": "markdown",
   "metadata": {},
   "source": [
    "When the command above completes, the `ibm_db` library is loaded in your notebook.(Une fois la commande ci-dessus terminée, la bibliothèque 'ibm_db' est chargée dans votre bloc-notes.)\n",
    "\n",
    "\n",
    "## Identify the database connection credentials\n",
    "\n",
    "Connecting to dashDB or DB2 database requires the following information:\n",
    "* Driver Name\n",
    "* Database name \n",
    "* Host DNS name or IP address \n",
    "* Host port\n",
    "* Connection protocol\n",
    "* User ID (or username)\n",
    "* User Password\n",
    "\n",
    "\n",
    "## Identifier les informations d’identification de connexion à la base de données\n",
    "\n",
    "La connexion à la base de données dashDB ou DB2 nécessite les informations suivantes :\n",
    "* Nom du pilote\n",
    "* Nom de la base de données \n",
    "* Nom DNS ou adresse IP de l’hôte \n",
    "* Port hôte\n",
    "* Protocole de connexion\n",
    "* Nom d’utilisateur (ou nom d’utilisateur)\n",
    "* Mot de passe de l’utilisateur\n",
    "\n",
    "\n",
    "\n",
    "__Notice:__ To obtain credentials please refer to the instructions given in the first Lab of this course\n",
    "\n",
    "Now enter your database credentials below and execute the cell with `Shift` + `Enter`\n",
    "\n",
    "\n",
    "\n",
    "__Notice :__ Pour obtenir des informations d’identification, veuillez vous référer aux instructions données dans le premier laboratoire de ce cours\n",
    "\n",
    "Entrez maintenant les informations d’identification de votre base de données ci-dessous et exécutez la cellule avec 'Shift' + 'Enter'\n"
   ]
  },
  {
   "cell_type": "code",
   "execution_count": null,
   "metadata": {},
   "outputs": [],
   "source": [
    "#Replace the placeholder values with your actual Db2 hostname, username, and password\n",
    "(#Replace les valeurs d’espace réservé avec votre nom d’hôte, votre nom d’utilisatrice et votre mot de passe Db2 réels :)\n",
    "\n",
    "\n",
    "dsn_hostname = \"YourDb2Hostname\" # e.g.: \"54a2f15b-5c0f-46df-8954-7e38e612c2bd.c1ogj3sd0tgtu0lqde00.databases.appdomain.cloud\"\n",
    "dsn_uid = \"YourDb2Username\"        # e.g. \"abc12345\"\n",
    "dsn_pwd = \"YoueDb2Password\"      # e.g. \"7dBZ3wWt9XN6$o0J\"\n",
    "\n",
    "dsn_driver = \"{IBM DB2 ODBC DRIVER}\"\n",
    "dsn_database = \"BLUDB\"            # e.g. \"BLUDB\"\n",
    "dsn_port = \"YourPort\"                # e.g. \"32733\" \n",
    "dsn_protocol = \"TCPIP\"            # i.e. \"TCPIP\"\n",
    "dsn_security = \"SSL\"              #i.e. \"SSL\""
   ]
  },
  {
   "cell_type": "code",
   "execution_count": 2,
   "metadata": {
    "tags": []
   },
   "outputs": [],
   "source": [
    "dsn_hostname = \"2f3279a5-73d1-4859-88f0-a6c3e6b4b907.c3n41cmd0nqnrk39u98g.databases.appdomain.cloud\"\n",
    "\n",
    "dsn_uid = \"zyj48746\"\n",
    "\n",
    "dsn_pwd = \"n97cCLsRaGSqeB1C\"\n",
    "\n",
    "dsn_driver = \"{IBM DB2 ODBC DRIVER}\"\n",
    "\n",
    "dsn_database = \"bludb\" \n",
    "\n",
    "dsn_port = \"30756\"\n",
    "\n",
    "dsn_protocol = \"TCPIP\" \n",
    "\n",
    "dsn_security = \"SSL\" \n",
    "\n",
    "\n",
    "\n",
    "\n"
   ]
  },
  {
   "cell_type": "code",
   "execution_count": null,
   "metadata": {},
   "outputs": [],
   "source": []
  },
  {
   "cell_type": "markdown",
   "metadata": {},
   "source": [
    "## Create the DB2 database connection\n",
    "\n",
    "Ibm_db API uses the IBM Data Server Driver for ODBC and CLI APIs to connect to IBM DB2 and Informix.\n",
    "\n",
    "\n",
    "Lets build the dsn connection string using the credentials you entered above\n",
    "\n",
    "\n",
    "\n",
    "## Créer la connexion à la base de données DB2\n",
    "\n",
    "Ibm_db’API utilise le pilote IBM Data Server pour les API ODBC et CLI pour se connecter à IBM DB2 et Informix.\n",
    "\n",
    "Permet de créer la chaîne de connexion dsn à l’aide des informations d’identification que vous avez saisies ci-dessus\n"
   ]
  },
  {
   "cell_type": "code",
   "execution_count": null,
   "metadata": {},
   "outputs": [],
   "source": [
    "#DO MODIFIEZ PAS CETTE CELLULE. Il suffit de l’exécuter avec Maj + Entrée\n",
    "#Create la chaîne de connexion DSN"
   ]
  },
  {
   "cell_type": "code",
   "execution_count": 5,
   "metadata": {
    "tags": []
   },
   "outputs": [
    {
     "name": "stdout",
     "output_type": "stream",
     "text": [
      "DRIVER={IBM DB2 ODBC DRIVER};DATABASE=bludb;HOSTNAME=2f3279a5-73d1-4859-88f0-a6c3e6b4b907.c3n41cmd0nqnrk39u98g.databases.appdomain.cloud;PORT=30756;PROTOCOL=TCPIP;UID=zyj48746;PWD=n97cCLsRaGSqeB1C;SECURITY=SSL;\n"
     ]
    }
   ],
   "source": [
    "#DO NOT MODIFY THIS CELL. Just RUN it with Shift + Enter\n",
    "#Create the dsn connection string\n",
    "dsn = (\n",
    "    \"DRIVER={0};\"\n",
    "    \"DATABASE={1};\"\n",
    "    \"HOSTNAME={2};\"\n",
    "    \"PORT={3};\"\n",
    "    \"PROTOCOL={4};\"\n",
    "    \"UID={5};\"\n",
    "    \"PWD={6};\"\n",
    "    \"SECURITY={7};\").format(dsn_driver, dsn_database, dsn_hostname, dsn_port, dsn_protocol, dsn_uid, dsn_pwd,dsn_security)\n",
    "\n",
    "#print the connection string to check correct values are specified\n",
    "print(dsn)\n",
    "\n",
    "#print la chaîne de connexion pour vérifier que les valeurs correctes sont spécifiées\n"
   ]
  },
  {
   "cell_type": "markdown",
   "metadata": {},
   "source": [
    "Salut @MAHI,\n",
    "\n",
    "Merci de votre publication.\n",
    "\n",
    "Nous sommes heureux de vous assister.\n",
    "\n",
    "Veuillez noter que l'extrait de code ci-dessous construit une chaîne de connexion à la base de données (DSN) en utilisant une approche de chaîne formatée en Python. Décomposons-le étape par étape :\n",
    "\n",
    "Décomposons-le étape par étape :\n",
    "\n",
    "1. ### Le code définit un modèle de format pour la chaîne de connexion DSN. Le modèle comprend des espaces réservés pour divers paramètres nécessaires à la connexion à la base de données.\n",
    "\n",
    "2. ### Les espaces réservés dans le modèle sont :\n",
    "\n",
    "{0} : pilote\n",
    "\n",
    "{1} : Base de données\n",
    "\n",
    "{2} : nom d'hôte\n",
    "\n",
    "{3} : Port\n",
    "\n",
    "{4} : Protocole\n",
    "\n",
    "{5} : ID utilisateur (UID)\n",
    "\n",
    "{6} : Mot de passe (PWD)\n",
    "\n",
    "{7} : Paramètres de sécurité (SÉCURITÉ)\n",
    "\n",
    "3. ### La méthode .format() est utilisée pour remplacer les espaces réservés dans le modèle par des valeurs réelles. Il prend les valeurs des variables dsn_driver, dsn_database, dsn_hostname, dsn_port, dsn_protocol, dsn_uid, dsn_pwd et dsn_security, et les insère dans les espaces réservés de la chaîne DSN.\n",
    "\n",
    "4. ### Enfin, la chaîne de connexion construite dsn est imprimée sur la console pour vérifier que les valeurs correctes sont spécifiées pour chaque paramètre.\n",
    "\n",
    "Ainsi, par exemple, si les variables dsn_driver, dsn_database, etc. sont correctement définies avec les valeurs appropriées avant l'exécution de cet extrait de code, la chaîne DSN imprimée représentera une chaîne de connexion valide qui peut être utilisée pour établir une connexion à la base de données spécifiée. avec les informations d'identification et les paramètres fournis.\n",
    "\n",
    "Dans le laboratoire, nous avons déjà inclus un bloc de code qu'il vous suffit de remplir avec les valeurs appropriées pour que la chaîne DSN établisse une connexion à la base de données.\n",
    "\n",
    "J'espère que ça aide."
   ]
  },
  {
   "cell_type": "markdown",
   "metadata": {},
   "source": [
    "Now establish the connection to the database\n",
    "\n",
    "Établissez maintenant la connexion à la base de données\n"
   ]
  },
  {
   "cell_type": "code",
   "execution_count": 6,
   "metadata": {
    "tags": []
   },
   "outputs": [
    {
     "name": "stdout",
     "output_type": "stream",
     "text": [
      "Connected to database:  bludb as user:  zyj48746 on host:  2f3279a5-73d1-4859-88f0-a6c3e6b4b907.c3n41cmd0nqnrk39u98g.databases.appdomain.cloud\n"
     ]
    }
   ],
   "source": [
    "#DO NOT MODIFY THIS CELL. Just RUN it with Shift + Enter\n",
    "#Create database connection\n",
    "\n",
    "try:\n",
    "    conn = ibm_db.connect(dsn, \"\", \"\")\n",
    "    print (\"Connected to database: \", dsn_database, \"as user: \", dsn_uid, \"on host: \", dsn_hostname)\n",
    "\n",
    "except:\n",
    "    print (\"Unable to connect: \", ibm_db.conn_errormsg() )\n"
   ]
  },
  {
   "cell_type": "markdown",
   "metadata": {},
   "source": [
    "Salut @MAHI,\n",
    "\n",
    "Merci de votre publication.\n",
    "\n",
    "Nous sommes heureux de vous assister.\n",
    "\n",
    "Veuillez noter que le code ci-dessous tente d'établir une connexion à une base de données à l'aide de la fonction ibm_db.connect() fournie par le pilote IBM DB2 Python.\n",
    "\n",
    "Décomposons-le :\n",
    "\n",
    "1. ### try : -Ce mot-clé indique le début d’un bloc de code où les exceptions seront interceptées. Python tentera d'exécuter le code à l'intérieur du bloc try, et si une exception se produit, elle sera interceptée par le bloc except.\n",
    "\n",
    "2. ### conn = ibm_db.connect(dsn, \"\", \"\") : cette ligne tente d'établir une connexion à la base de données à l'aide de la fonction ibm_db.connect(). La variable dsn contient la chaîne de connexion nécessaire pour se connecter à la base de données. Les chaînes vides \"\" représentent le nom d'utilisateur et le mot de passe, qui ne sont pas fournis ici. La fonction ibm_db.connect() renvoie un objet de connexion (conn) si la connexion réussit.\n",
    "\n",
    "3. ### print (\"Connecté à la base de données : \", dsn_database, \" as user : \", dsn_uid, \" on host : \", dsn_hostname) : Si la connexion est établie avec succès, cette ligne imprime un message confirmant la connexion réussie. Il comprend des informations sur le nom de la base de données (dsn_database), l'ID utilisateur (dsn_uid) et le nom d'hôte (dsn_hostname).\n",
    "\n",
    "4. ### except : - Ce mot-clé indique le début d'un bloc de code qui sera exécuté si une exception se produit dans le bloc try.\n",
    "\n",
    "5. ### print (\"Unable to connect: \", ibm_db.conn_errormsg() ) : Si une exception se produit lors de la tentative de connexion à la base de données, cette ligne imprime un message d'erreur. La fonction ibm_db.conn_errormsg() permet de récupérer le message d'erreur associé à la tentative de connexion.\n",
    "\n",
    "En résumé, ce code tente d'établir une connexion à une base de données à l'aide de la chaîne de connexion fournie (dsn). Si la connexion réussit, il imprime un message de confirmation. Si une erreur se produit lors de la tentative de connexion, il imprime un message d'erreur.\n",
    "\n",
    "J'espère que ça aide.\n",
    "\n",
    "Bon apprentissage!"
   ]
  },
  {
   "cell_type": "markdown",
   "metadata": {},
   "source": [
    "Congratulations if you were able to connect successfuly. Otherwise check the error and try again.\n",
    "\n",
    "Félicitations si vous avez réussi à vous connecter. Sinon, vérifiez l’erreur et réessayez.\n",
    "\n",
    "\n"
   ]
  },
  {
   "cell_type": "code",
   "execution_count": 7,
   "metadata": {
    "tags": []
   },
   "outputs": [
    {
     "name": "stdout",
     "output_type": "stream",
     "text": [
      "DBMS_NAME:  DB2/LINUXX8664\n",
      "DBMS_VER:   11.05.0900\n",
      "DB_NAME:    BLUDB\n"
     ]
    }
   ],
   "source": [
    "#Retrieve Metadata for the Database Server\n",
    "server = ibm_db.server_info(conn)\n",
    "\n",
    "print (\"DBMS_NAME: \", server.DBMS_NAME)\n",
    "print (\"DBMS_VER:  \", server.DBMS_VER)\n",
    "print (\"DB_NAME:   \", server.DB_NAME)"
   ]
  },
  {
   "cell_type": "code",
   "execution_count": 8,
   "metadata": {
    "tags": []
   },
   "outputs": [
    {
     "name": "stdout",
     "output_type": "stream",
     "text": [
      "DRIVER_NAME:           libdb2.a\n",
      "DRIVER_VER:            11.05.0800\n",
      "DATA_SOURCE_NAME:      BLUDB\n",
      "DRIVER_ODBC_VER:       03.51\n",
      "ODBC_VER:              03.01.0000\n",
      "ODBC_SQL_CONFORMANCE:  EXTENDED\n",
      "APPL_CODEPAGE:         1208\n",
      "CONN_CODEPAGE:         1208\n"
     ]
    }
   ],
   "source": [
    "#Retrieve Metadata for the Database Client / Driver\n",
    "client = ibm_db.client_info(conn)\n",
    "\n",
    "print (\"DRIVER_NAME:          \", client.DRIVER_NAME) \n",
    "print (\"DRIVER_VER:           \", client.DRIVER_VER)\n",
    "print (\"DATA_SOURCE_NAME:     \", client.DATA_SOURCE_NAME)\n",
    "print (\"DRIVER_ODBC_VER:      \", client.DRIVER_ODBC_VER)\n",
    "print (\"ODBC_VER:             \", client.ODBC_VER)\n",
    "print (\"ODBC_SQL_CONFORMANCE: \", client.ODBC_SQL_CONFORMANCE)\n",
    "print (\"APPL_CODEPAGE:        \", client.APPL_CODEPAGE)\n",
    "print (\"CONN_CODEPAGE:        \", client.CONN_CODEPAGE)"
   ]
  },
  {
   "cell_type": "markdown",
   "metadata": {},
   "source": [
    "## Close the Connection\n",
    "We free all resources by closing the connection. Remember that it is always important to close connections so that we can avoid unused connections taking up resources.\n",
    "\n",
    "\n",
    "\n",
    "\n",
    "## Fermer la connexion\n",
    "Nous libérons toutes les ressources en fermant la connexion. N’oubliez pas qu’il est toujours important de fermer les connexions afin d’éviter que les connexions inutilisées ne consomment des ressources.\n",
    "\n"
   ]
  },
  {
   "cell_type": "code",
   "execution_count": 9,
   "metadata": {
    "tags": []
   },
   "outputs": [
    {
     "data": {
      "text/plain": [
       "True"
      ]
     },
     "execution_count": 9,
     "metadata": {},
     "output_type": "execute_result"
    }
   ],
   "source": [
    "ibm_db.close(conn)"
   ]
  },
  {
   "cell_type": "markdown",
   "metadata": {},
   "source": [
    "## Summary\n",
    "\n",
    "In this tutorial you established a connection to a DB2 database on Cloud database from a Python notebook using ibm_db API. \n",
    "\n",
    "\n",
    "\n",
    "## Résumé\n",
    "\n",
    "Dans ce didacticiel, vous avez établi une connexion à une base de données DB2 sur une base de données Cloud à partir d’un notebook Python à l’aide de ibm_db API."
   ]
  },
  {
   "cell_type": "markdown",
   "metadata": {},
   "source": [
    "## Author\n",
    "\n",
    "<a href=\"https://www.linkedin.com/in/ravahuja?utm_medium=Exinfluencer&utm_source=Exinfluencer&utm_content=000026UJ&utm_term=10006555&utm_id=NA-SkillsNetwork-Channel-SkillsNetworkCoursesIBMDeveloperSkillsNetworkDB0201ENSkillsNetwork22-2022-01-01\">Rav Ahuja</a>\n",
    "\n",
    "\n",
    "## Change Log\n",
    "\n",
    "\n",
    "|  Date (YYYY-MM-DD) |  Version | Changed By  |  Change Description |\n",
    "|---|---|---|---|\n",
    "| 2021-11-17  | 2.2  | Lakshmi  | Updated library  |\n",
    "| 2021-07-09  | 2.1  | Malika   | Updated the connection string  |\n",
    "| 2020-08-28  | 2.0  | Lavanya  |  Moved lab to course repo in GitLab  |\n",
    "\n",
    "\n",
    "\n",
    "<hr>\n",
    "\n",
    "## <h3 align=\"center\"> © IBM Corporation 2020. All rights reserved. <h3/>\n"
   ]
  }
 ],
 "metadata": {
  "kernelspec": {
   "display_name": "Python 3 (ipykernel)",
   "language": "python",
   "name": "python3"
  },
  "language_info": {
   "codemirror_mode": {
    "name": "ipython",
    "version": 3
   },
   "file_extension": ".py",
   "mimetype": "text/x-python",
   "name": "python",
   "nbconvert_exporter": "python",
   "pygments_lexer": "ipython3",
   "version": "3.9.13"
  }
 },
 "nbformat": 4,
 "nbformat_minor": 4
}
